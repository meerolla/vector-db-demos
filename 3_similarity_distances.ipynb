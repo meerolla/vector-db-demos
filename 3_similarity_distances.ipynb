{
 "cells": [
  {
   "cell_type": "markdown",
   "id": "9c0828a7",
   "metadata": {},
   "source": [
    "# 📏 Distances in Vector Databases\n",
    "Vector databases use mathematical distance functions to determine the similarity between vectors. This notebook explores common distance measures used for similarity search."
   ]
  },
  {
   "cell_type": "markdown",
   "id": "8be66182",
   "metadata": {},
   "source": [
    "## 🔢 Common Distance Metrics\n",
    "- **Cosine Similarity**: Measures the angle between vectors. Common in text similarity.\n",
    "- **Euclidean Distance**: Straight-line distance between vectors. Good for spatial data.\n",
    "- **Manhattan Distance**: Sum of absolute differences. Works well in grid-like structures.\n",
    "\n",
    "> ChromaDB uses **Cosine Similarity** by default to compute how close documents are."
   ]
  },
  {
   "cell_type": "code",
   "execution_count": null,
   "id": "546f345f",
   "metadata": {},
   "outputs": [],
   "source": [
    "# 📦 Install required packages\n",
    "%pip install numpy"
   ]
  },
  {
   "cell_type": "code",
   "execution_count": 1,
   "id": "dc151de5",
   "metadata": {},
   "outputs": [
    {
     "name": "stdout",
     "output_type": "stream",
     "text": [
      "Euclidean Distance: 5.196152422706632\n",
      "Cosine Similarity: 0.9746318461970762\n",
      "Manhattan Distance: 9\n"
     ]
    }
   ],
   "source": [
    "# Example: Calculating distances manually with NumPy\n",
    "import numpy as np\n",
    "\n",
    "# Define two sample vectors\n",
    "vec1 = np.array([1, 2, 3])\n",
    "vec2 = np.array([4, 5, 6])\n",
    "\n",
    "# Euclidean Distance\n",
    "euclidean = np.linalg.norm(vec1 - vec2)\n",
    "print(\"Euclidean Distance:\", euclidean)\n",
    "\n",
    "# Cosine Similarity\n",
    "cosine_similarity = np.dot(vec1, vec2) / (np.linalg.norm(vec1) * np.linalg.norm(vec2))\n",
    "print(\"Cosine Similarity:\", cosine_similarity)\n",
    "\n",
    "# Manhattan Distance\n",
    "manhattan = np.sum(np.abs(vec1 - vec2))\n",
    "print(\"Manhattan Distance:\", manhattan)"
   ]
  },
  {
   "cell_type": "markdown",
   "id": "4b8114b1",
   "metadata": {},
   "source": [
    "## ✅ Summary\n",
    "Different tasks may benefit from different distance functions. For example:\n",
    "- Text/NLP: Cosine Similarity\n",
    "- Spatial/physical data: Euclidean Distance\n",
    "- Simpler, fast heuristics: Manhattan Distance\n",
    "\n",
    "Most vector DBs, including ChromaDB, allow switching distance metrics depending on your embedding use case."
   ]
  }
 ],
 "metadata": {
  "kernelspec": {
   "display_name": "venv",
   "language": "python",
   "name": "python3"
  },
  "language_info": {
   "codemirror_mode": {
    "name": "ipython",
    "version": 3
   },
   "file_extension": ".py",
   "mimetype": "text/x-python",
   "name": "python",
   "nbconvert_exporter": "python",
   "pygments_lexer": "ipython3",
   "version": "3.12.10"
  }
 },
 "nbformat": 4,
 "nbformat_minor": 5
}
