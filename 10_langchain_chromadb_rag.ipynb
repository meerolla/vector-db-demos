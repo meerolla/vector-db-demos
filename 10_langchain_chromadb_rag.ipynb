{
 "cells": [
  {
   "cell_type": "code",
   "execution_count": null,
   "id": "487dda21",
   "metadata": {},
   "outputs": [],
   "source": [
    "# 📦 Install required packages\n",
    "%pip install langchain langchain-openai chromadb tiktoken python-dotenv"
   ]
  },
  {
   "cell_type": "markdown",
   "id": "667f382d",
   "metadata": {},
   "source": [
    "# 🔗 LangChain + ChromaDB + OpenAI RAG\n",
    "This notebook uses LangChain's RAG workflow with OpenAI embeddings and Chroma."
   ]
  },
  {
   "cell_type": "code",
   "execution_count": null,
   "id": "2956faab",
   "metadata": {},
   "outputs": [],
   "source": [
    "import os\n",
    "from dotenv import load_dotenv\n",
    "from langchain_community.vectorstores import Chroma\n",
    "from langchain_openai import OpenAIEmbeddings, ChatOpenAI\n",
    "from langchain_community.document_loaders import DirectoryLoader, TextLoader\n",
    "from langchain_text_splitters import RecursiveCharacterTextSplitter\n",
    "\n",
    "load_dotenv()\n",
    "openai_key = os.getenv(\"OPENAI_API_KEY\")\n",
    "model = ChatOpenAI(api_key=openai_key, model=\"gpt-4\")\n"
   ]
  },
  {
   "cell_type": "code",
   "execution_count": null,
   "id": "f269f883",
   "metadata": {},
   "outputs": [],
   "source": [
    "# Load and split documents\n",
    "loader = DirectoryLoader(path=\"./data/new_articles/\", glob=\"*.txt\", loader_cls=TextLoader)\n",
    "document = loader.load()\n",
    "\n",
    "text_splitter = RecursiveCharacterTextSplitter(separators=[\"\\n\\n\", \"\\n\"], chunk_size=1000, chunk_overlap=20)\n",
    "documents = text_splitter.split_documents(document)\n",
    "print(f\"Number of documents: {len(documents)}\")"
   ]
  },
  {
   "cell_type": "code",
   "execution_count": null,
   "id": "eb039561",
   "metadata": {},
   "outputs": [],
   "source": [
    "# Embedding and persistence\n",
    "embedding = OpenAIEmbeddings(api_key=openai_key, model=\"text-embedding-3-small\")\n",
    "persist_directory = \"./db/chroma_db_real_world\"\n",
    "vectordb = Chroma.from_documents(documents=documents, embedding=embedding, persist_directory=persist_directory)\n",
    "retriever = vectordb.as_retriever()"
   ]
  },
  {
   "cell_type": "code",
   "execution_count": null,
   "id": "b31ad07d",
   "metadata": {},
   "outputs": [],
   "source": [
    "# RAG Prompt & Chain\n",
    "from langchain_core.prompts import ChatPromptTemplate\n",
    "from langchain.chains.combine_documents import create_stuff_documents_chain\n",
    "from langchain.chains import create_retrieval_chain\n",
    "\n",
    "system_prompt = (\n",
    "    \"You are an assistant for question-answering tasks. \"\n",
    "    \"Use the following pieces of retrieved context to answer \"\n",
    "    \"the question. If you don't know the answer, say that you \"\n",
    "    \"don't know. Use three sentences maximum and keep the answer concise.\\n\\n{context}\"\n",
    ")\n",
    "\n",
    "prompt = ChatPromptTemplate.from_messages([(\"system\", system_prompt), (\"human\", \"{input}\")])\n",
    "qa_chain = create_stuff_documents_chain(llm=model, prompt=prompt)\n",
    "rag_chain = create_retrieval_chain(retriever, qa_chain)"
   ]
  },
  {
   "cell_type": "code",
   "execution_count": null,
   "id": "b4d00578",
   "metadata": {},
   "outputs": [],
   "source": [
    "# Query\n",
    "response = rag_chain.invoke({\"input\": \"talk about databricks news\"})\n",
    "print(response[\"answer\"])"
   ]
  }
 ],
 "metadata": {},
 "nbformat": 4,
 "nbformat_minor": 5
}
