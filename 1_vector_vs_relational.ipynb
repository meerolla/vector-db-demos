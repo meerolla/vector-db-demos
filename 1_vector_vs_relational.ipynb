{
 "cells": [
  {
   "cell_type": "markdown",
   "id": "54dc7f34",
   "metadata": {},
   "source": [
    "# 📊 Vector DB vs Relational DB\n",
    "This notebook provides a quick comparison between traditional relational databases and modern vector databases used in AI and similarity search applications."
   ]
  },
  {
   "cell_type": "markdown",
   "id": "74d93b0f",
   "metadata": {},
   "source": [
    "## 🔍 Comparison Table\n",
    "| Feature | Relational DB | Vector DB |\n",
    "|---------|---------------|-----------|\n",
    "| **Data Structure** | Tables (rows & columns) | Multi-dimensional vectors |\n",
    "| **Query Language** | SQL | Vector search APIs / similarity search |\n",
    "| **Data Type** | Structured | Unstructured (text, image, audio, etc.) |\n",
    "| **Search Type** | Exact match, filters | Nearest neighbor, similarity search |\n",
    "| **Indexing** | B-trees, Hash Index | FAISS, HNSW, IVF, PQ |\n",
    "| **Use Cases** | Transactions, reports | Recommendations, semantic search, RAG |\n"
   ]
  },
  {
   "cell_type": "markdown",
   "id": "8b79e417",
   "metadata": {},
   "source": [
    "## ✅ Summary\n",
    "Relational databases are ideal for structured data and transactional workloads, while vector databases are optimized for storing and searching unstructured data based on similarity — a core requirement in many AI applications."
   ]
  }
 ],
 "metadata": {},
 "nbformat": 4,
 "nbformat_minor": 5
}
