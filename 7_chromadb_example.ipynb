{
 "cells": [
  {
   "cell_type": "code",
   "execution_count": null,
   "id": "d97b6e75",
   "metadata": {},
   "outputs": [],
   "source": [
    "# 📦 Install required packages\n",
    "%pip install chromadb"
   ]
  },
  {
   "cell_type": "markdown",
   "id": "765f31eb",
   "metadata": {},
   "source": [
    "# 🧪 ChromaDB Example – Basic Usage\n",
    "In this notebook, you'll learn how to use ChromaDB to create a collection, insert documents, and perform a basic similarity search."
   ]
  },
  {
   "cell_type": "markdown",
   "id": "63f3d0d0",
   "metadata": {},
   "source": [
    "## 🔧 Step 1: Set up ChromaDB client and collection"
   ]
  },
  {
   "cell_type": "code",
   "execution_count": null,
   "id": "68edf282",
   "metadata": {},
   "outputs": [],
   "source": [
    "import chromadb\n",
    "\n",
    "# Initialize client (in-memory by default)\n",
    "client = chromadb.Client()\n",
    "\n",
    "# Create or get collection\n",
    "collection = client.get_or_create_collection(name=\"my_collection\")"
   ]
  },
  {
   "cell_type": "markdown",
   "id": "13d7039e",
   "metadata": {},
   "source": [
    "## 📥 Step 2: Insert Documents"
   ]
  },
  {
   "cell_type": "code",
   "execution_count": null,
   "id": "bc1a3137",
   "metadata": {},
   "outputs": [],
   "source": [
    "documents = [\n",
    "    {\"id\": \"doc1\", \"text\": \"Hello, world!\"},\n",
    "    {\"id\": \"doc2\", \"text\": \"How are you today?\"},\n",
    "    {\"id\": \"doc3\", \"text\": \"Goodbye and take care!\"},\n",
    "]\n",
    "\n",
    "for doc in documents:\n",
    "    collection.upsert(ids=doc[\"id\"], documents=[doc[\"text\"]])"
   ]
  },
  {
   "cell_type": "markdown",
   "id": "a8926098",
   "metadata": {},
   "source": [
    "## 🔍 Step 3: Query for Similar Text"
   ]
  },
  {
   "cell_type": "code",
   "execution_count": null,
   "id": "e2b814a8",
   "metadata": {},
   "outputs": [],
   "source": [
    "query_text = \"Hello, how are you?\"\n",
    "\n",
    "results = collection.query(query_texts=[query_text], n_results=2)\n",
    "\n",
    "for idx, doc in enumerate(results[\"documents\"][0]):\n",
    "    print(f\"Match {idx+1}: {doc} (ID: {results['ids'][0][idx]}, Distance: {results['distances'][0][idx]})\")"
   ]
  },
  {
   "cell_type": "markdown",
   "id": "2282b4a3",
   "metadata": {},
   "source": [
    "## ✅ Summary\n",
    "- Created a collection in ChromaDB\n",
    "- Inserted simple text documents\n",
    "- Queried for semantic similarity using default embeddings"
   ]
  }
 ],
 "metadata": {},
 "nbformat": 4,
 "nbformat_minor": 5
}
