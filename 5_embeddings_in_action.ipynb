{
 "cells": [
  {
   "cell_type": "code",
   "execution_count": null,
   "id": "cb10c69b",
   "metadata": {},
   "outputs": [],
   "source": [
    "# 📦 Install required packages\n",
    "%pip install chromadb openai"
   ]
  },
  {
   "cell_type": "markdown",
   "id": "03403222",
   "metadata": {},
   "source": [
    "# 🧠 Embeddings in Action with ChromaDB\n",
    "This notebook introduces the concept of embeddings, how they are generated, and how to use them in ChromaDB for storing and querying documents."
   ]
  },
  {
   "cell_type": "markdown",
   "id": "9cb54e85",
   "metadata": {},
   "source": [
    "## 1️⃣ What is an Embedding?\n",
    "An embedding is a fixed-length vector of numbers that represents the meaning of a piece of data (e.g., text, image).\n",
    "Embeddings are useful for comparing the similarity between different data items in vector space."
   ]
  },
  {
   "cell_type": "markdown",
   "id": "9f9b34be",
   "metadata": {},
   "source": [
    "## 2️⃣ Generate Raw Embedding (Dummy Example)"
   ]
  },
  {
   "cell_type": "code",
   "execution_count": null,
   "id": "b858bc61",
   "metadata": {},
   "outputs": [],
   "source": [
    "import numpy as np\n",
    "\n",
    "sentence = \"This is a test sentence.\"\n",
    "embedding = np.random.rand(1536)\n",
    "print(f\"First 5 values of the embedding: {embedding[:5]}\")"
   ]
  },
  {
   "cell_type": "markdown",
   "id": "de2d8800",
   "metadata": {},
   "source": [
    "## 3️⃣ Using Default Embedding Function in ChromaDB"
   ]
  },
  {
   "cell_type": "code",
   "execution_count": null,
   "id": "aa2303a9",
   "metadata": {},
   "outputs": [],
   "source": [
    "import chromadb\n",
    "from chromadb.utils import embedding_functions\n",
    "\n",
    "client = chromadb.Client()\n",
    "default_ef = embedding_functions.DefaultEmbeddingFunction()\n",
    "collection = client.get_or_create_collection(\"demo_collection\", embedding_function=default_ef)\n",
    "\n",
    "documents = [\n",
    "    {\"id\": \"doc1\", \"text\": \"Hello, world!\"},\n",
    "    {\"id\": \"doc2\", \"text\": \"How are you today?\"},\n",
    "    {\"id\": \"doc3\", \"text\": \"Goodbye, see you later!\"},\n",
    "]\n",
    "\n",
    "for doc in documents:\n",
    "    collection.upsert(ids=doc[\"id\"], documents=[doc[\"text\"]])"
   ]
  },
  {
   "cell_type": "markdown",
   "id": "0d708996",
   "metadata": {},
   "source": [
    "## 4️⃣ Perform Similarity Search"
   ]
  },
  {
   "cell_type": "code",
   "execution_count": null,
   "id": "8b5bce9a",
   "metadata": {},
   "outputs": [],
   "source": [
    "query = \"How are you today?\"\n",
    "results = collection.query(query_texts=[query], n_results=2)\n",
    "\n",
    "for idx, doc in enumerate(results[\"documents\"][0]):\n",
    "    doc_id = results[\"ids\"][0][idx]\n",
    "    dist = results[\"distances\"][0][idx]\n",
    "    print(f\"{idx+1}. {doc} (ID: {doc_id}, Distance: {dist})\")"
   ]
  },
  {
   "cell_type": "markdown",
   "id": "4b177abf",
   "metadata": {},
   "source": [
    "## 5️⃣ Manually Embedding and Adding to Collection"
   ]
  },
  {
   "cell_type": "code",
   "execution_count": null,
   "id": "d87869ad",
   "metadata": {},
   "outputs": [],
   "source": [
    "collection = client.get_or_create_collection(\"manual_embeds\")\n",
    "collection.add(\n",
    "    documents=[\"Manual doc one\", \"Manual doc two\"],\n",
    "    embeddings=[[0.1, 0.2, 0.3], [0.4, 0.5, 0.6]],\n",
    "    ids=[\"id1\", \"id2\"]\n",
    ")\n",
    "print(collection.get(ids=[\"id1\", \"id2\"]))"
   ]
  }
 ],
 "metadata": {},
 "nbformat": 4,
 "nbformat_minor": 5
}
