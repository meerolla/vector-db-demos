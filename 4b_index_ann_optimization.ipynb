{
 "cells": [
  {
   "cell_type": "markdown",
   "id": "ad2de17d",
   "metadata": {},
   "source": [
    "# 🧠 Indexing & ANN Optimization in Vector Databases\n",
    "\n",
    "This notebook demonstrates how indexing and Approximate Nearest Neighbor (ANN) techniques using **FAISS** can significantly improve vector search performance.\n",
    "\n",
    "We'll:\n",
    "- Install necessary dependencies\n",
    "- Run brute-force vs. IVF index comparisons\n",
    "- Explore optimization using `nprobe`\n",
    "- Mention vector compression (next steps)"
   ]
  },
  {
   "cell_type": "code",
   "execution_count": null,
   "id": "006097f8",
   "metadata": {},
   "outputs": [],
   "source": [
    "# ✅ Optional: Install FAISS (uncomment if not already installed)\n",
    "# For CPU version:\n",
    "%pip install faiss-cpu\n",
    "# For GPU version (if supported):\n",
    "# %pip install faiss-gpu"
   ]
  },
  {
   "cell_type": "code",
   "execution_count": null,
   "id": "e60d82de",
   "metadata": {},
   "outputs": [],
   "source": [
    "# ✅ Check environment\n",
    "import faiss\n",
    "import numpy as np\n",
    "from time import time\n",
    "\n",
    "print('FAISS version:', faiss.__version__)\n",
    "print('Using GPU:', faiss.get_num_gpus() > 0)"
   ]
  },
  {
   "cell_type": "markdown",
   "id": "3500231d",
   "metadata": {},
   "source": [
    "## 🔧 Step 1: Generate synthetic dataset"
   ]
  },
  {
   "cell_type": "code",
   "execution_count": null,
   "id": "221542e1",
   "metadata": {},
   "outputs": [],
   "source": [
    "d = 128         # Dimensions\n",
    "nb = 10000      # Database size\n",
    "nq = 5          # Number of query vectors\n",
    "\n",
    "np.random.seed(42)\n",
    "xb = np.random.random((nb, d)).astype('float32')\n",
    "xq = np.random.random((nq, d)).astype('float32')"
   ]
  },
  {
   "cell_type": "markdown",
   "id": "6f4f21d9",
   "metadata": {},
   "source": [
    "## 🔍 Step 2: Brute-force search using `IndexFlatL2`"
   ]
  },
  {
   "cell_type": "code",
   "execution_count": null,
   "id": "03c790c1",
   "metadata": {},
   "outputs": [],
   "source": [
    "index_flat = faiss.IndexFlatL2(d)\n",
    "index_flat.add(xb)\n",
    "\n",
    "start = time()\n",
    "D_flat, I_flat = index_flat.search(xq, k=5)\n",
    "print(\"Brute-force search time: {:.6f}s\".format(time() - start))"
   ]
  },
  {
   "cell_type": "markdown",
   "id": "4e379d58",
   "metadata": {},
   "source": [
    "## ⚡ Step 3: Accelerated search using IVF (Inverted File Index)"
   ]
  },
  {
   "cell_type": "code",
   "execution_count": null,
   "id": "6edaaf88",
   "metadata": {},
   "outputs": [],
   "source": [
    "nlist = 100  # number of clusters\n",
    "quantizer = faiss.IndexFlatL2(d)\n",
    "index_ivf = faiss.IndexIVFFlat(quantizer, d, nlist)\n",
    "\n",
    "index_ivf.train(xb)  # required before adding\n",
    "index_ivf.add(xb)\n",
    "index_ivf.nprobe = 10  # tune this to adjust accuracy-speed tradeoff\n",
    "\n",
    "start = time()\n",
    "D_ivf, I_ivf = index_ivf.search(xq, k=5)\n",
    "print(\"IVF search time: {:.6f}s\".format(time() - start))"
   ]
  },
  {
   "cell_type": "markdown",
   "id": "41040bdb",
   "metadata": {},
   "source": [
    "## 📊 Summary\n",
    "- `IndexFlatL2` is slow but accurate.\n",
    "- `IndexIVFFlat` speeds up search using clustering.\n",
    "- `nprobe` controls the tradeoff: higher = more accurate but slower.\n",
    "\n",
    "**Next ideas:**\n",
    "- Use `IndexIVFPQ` for compression\n",
    "- Try `IndexHNSW` for high-speed approximate search\n",
    "- Integrate this with ChromaDB or LangChain RAG pipelines\n",
    "- Add result caching using Redis or in-memory hash maps"
   ]
  }
 ],
 "metadata": {
  "kernelspec": {
   "display_name": "venv",
   "language": "python",
   "name": "python3"
  },
  "language_info": {
   "name": "python",
   "version": "3.12.10"
  }
 },
 "nbformat": 4,
 "nbformat_minor": 5
}
