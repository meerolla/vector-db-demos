{
 "cells": [
  {
   "cell_type": "markdown",
   "id": "8699a45c",
   "metadata": {},
   "source": [
    "# 🧾 Parameters in Vector Databases\n",
    "This notebook outlines key parameters commonly used when working with vector databases, such as collections, documents, metadata, IDs, and embeddings."
   ]
  },
  {
   "cell_type": "markdown",
   "id": "94963c6b",
   "metadata": {},
   "source": [
    "\n",
    "> ⚙️ **Note:**  \n",
    "Parameters in vector databases generally fall into three levels:\n",
    "- **Client Configuration** (e.g., memory vs persistent storage)\n",
    "- **Collection Parameters** (e.g., embedding functions, default metadata)\n",
    "- **Query Parameters** (e.g., `n_results`, `where` filters, output fields)\n",
    "\n",
    "This notebook focuses on basic `collection.add()` parameters. Advanced topics like persistence and filtering are covered in upcoming notebooks.\n"
   ]
  },
  {
   "cell_type": "markdown",
   "id": "243e3b73",
   "metadata": {},
   "source": [
    "## 🔑 Common Parameters\n",
    "- **Collection Name**: Logical grouping of related documents/vectors.\n",
    "- **Documents**: Raw text or content (e.g., sentences, paragraphs, images).\n",
    "- **IDs**: Unique identifiers for each document/vector.\n",
    "- **Metadata**: Key-value pairs attached to vectors (e.g., tags, categories).\n",
    "- **Embeddings**: Vector representations of documents used for similarity search.\n"
   ]
  },
  {
   "cell_type": "code",
   "execution_count": null,
   "id": "2a0111d2",
   "metadata": {},
   "outputs": [],
   "source": [
    "# 📦 Install required packages\n",
    "%pip install chromadb"
   ]
  },
  {
   "cell_type": "code",
   "execution_count": null,
   "id": "b0d9d580",
   "metadata": {},
   "outputs": [],
   "source": [
    "# Example: Adding documents to ChromaDB\n",
    "import chromadb\n",
    "chroma_client = chromadb.Client()\n",
    "\n",
    "# Create or get collection\n",
    "collection = chroma_client.get_or_create_collection(name=\"my_collection\")\n",
    "\n",
    "# Add documents with key parameters\n",
    "collection.add(\n",
    "    documents=[\"Red apple\", \"Yellow banana\"],\n",
    "    metadatas=[{\"category\": \"fruit\"}, {\"category\": \"fruit\"}],\n",
    "    ids=[\"doc1\", \"doc2\"],\n",
    "    embeddings=[[0.1, 0.2, 0.3], [0.4, 0.5, 0.6]]\n",
    ")"
   ]
  },
  {
   "cell_type": "markdown",
   "id": "4fc92e3e",
   "metadata": {},
   "source": [
    "## ✅ Summary\n",
    "Understanding parameters helps structure vector data efficiently, enabling accurate similarity search, filtering, and metadata-based querying."
   ]
  },
  {
   "cell_type": "markdown",
   "id": "c5249048",
   "metadata": {},
   "source": [
    "\n",
    "### 🔄 Additional Parameters to Know\n",
    "\n",
    "Besides the basic `collection.add()` parameters like `documents`, `ids`, `metadata`, and `embeddings`, here are more parameters you'll commonly encounter when working with ChromaDB:\n",
    "\n",
    "- **embedding_function**: Used when creating a collection. This defines how your documents are converted to vectors.\n",
    "- **n_results**: Used in `.query()` to control how many similar documents to retrieve.\n",
    "- **include**: Specify what to include in query results (e.g., `documents`, `distances`, `metadatas`).\n",
    "- **where / where_document**: Filters for structured metadata or raw document content (like SQL WHERE).\n",
    "- **Persistence (Client type)**:\n",
    "  - `chromadb.Client()` – stores everything in memory (lost on restart)\n",
    "  - `chromadb.PersistentClient(path=\"...\")` – stores vectors on disk and supports reuse\n",
    "\n",
    "These parameters give you full control over how vectors are stored, searched, filtered, and retrieved.\n",
    "\n",
    "➡️ You will see these in action in later notebooks (e.g., OpenAI integration, persistence, RAG).\n"
   ]
  }
 ],
 "metadata": {
  "language_info": {
   "name": "python"
  }
 },
 "nbformat": 4,
 "nbformat_minor": 5
}
