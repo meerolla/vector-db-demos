{
 "cells": [
  {
   "cell_type": "code",
   "execution_count": null,
   "id": "6c0adf4d",
   "metadata": {},
   "outputs": [],
   "source": [
    "# 📦 Install required packages\n",
    "%pip install chromadb"
   ]
  },
  {
   "cell_type": "markdown",
   "id": "e1b3a382",
   "metadata": {},
   "source": [
    "# 💾 Embeddings with Persistent Storage in ChromaDB\n",
    "This notebook demonstrates how to use ChromaDB with persistent storage to save your collection across runs."
   ]
  },
  {
   "cell_type": "code",
   "execution_count": null,
   "id": "5a06ba31",
   "metadata": {},
   "outputs": [],
   "source": [
    "import chromadb\n",
    "from chromadb.utils import embedding_functions\n",
    "\n",
    "# Set up default embedding function\n",
    "default_ef = embedding_functions.DefaultEmbeddingFunction()\n",
    "\n",
    "# Use PersistentClient to store Chroma data on disk\n",
    "croma_client = chromadb.PersistentClient(path=\"./db/chroma_persist\")\n",
    "\n",
    "# Create or get collection\n",
    "collection = croma_client.get_or_create_collection(\n",
    "    name=\"my_story\",\n",
    "    embedding_function=default_ef\n",
    ")"
   ]
  },
  {
   "cell_type": "code",
   "execution_count": null,
   "id": "b21628a3",
   "metadata": {},
   "outputs": [],
   "source": [
    "# Define text documents\n",
    "documents = [\n",
    "    {\"id\": \"doc1\", \"text\": \"Hello, world!\"},\n",
    "    {\"id\": \"doc2\", \"text\": \"How are you today?\"},\n",
    "    {\"id\": \"doc3\", \"text\": \"Goodbye, see you later!\"},\n",
    "    {\n",
    "        \"id\": \"doc4\",\n",
    "        \"text\": \"Microsoft is a technology company that develops software. It was founded by Bill Gates and Paul Allen in 1975.\"\n",
    "    },\n",
    "]\n",
    "\n",
    "for doc in documents:\n",
    "    collection.upsert(ids=doc[\"id\"], documents=[doc[\"text\"]])"
   ]
  },
  {
   "cell_type": "code",
   "execution_count": null,
   "id": "565e206f",
   "metadata": {},
   "outputs": [],
   "source": [
    "# Define a query\n",
    "query_text = \"find document related to technology company\"\n",
    "\n",
    "results = collection.query(query_texts=[query_text], n_results=2)\n",
    "\n",
    "for idx, document in enumerate(results[\"documents\"][0]):\n",
    "    doc_id = results[\"ids\"][0][idx]\n",
    "    distance = results[\"distances\"][0][idx]\n",
    "    print(f\" For the query: {query_text},\\n Found similar document: {document} (ID: {doc_id}, Distance: {distance})\")"
   ]
  }
 ],
 "metadata": {},
 "nbformat": 4,
 "nbformat_minor": 5
}
